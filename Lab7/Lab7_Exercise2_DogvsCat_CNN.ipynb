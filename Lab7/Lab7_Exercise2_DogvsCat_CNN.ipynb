{
  "nbformat": 4,
  "nbformat_minor": 0,
  "metadata": {
    "colab": {
      "name": "Lab7_Exercise2_DogvsCat_CNN.ipynb",
      "provenance": [],
      "collapsed_sections": [],
      "include_colab_link": true
    },
    "kernelspec": {
      "name": "python3",
      "display_name": "Python 3"
    },
    "accelerator": "GPU"
  },
  "cells": [
    {
      "cell_type": "markdown",
      "metadata": {
        "id": "view-in-github",
        "colab_type": "text"
      },
      "source": [
        "<a href=\"https://colab.research.google.com/github/bb20417/CE888/blob/main/Lab7/Lab7_Exercise2_DogvsCat_CNN.ipynb\" target=\"_parent\"><img src=\"https://colab.research.google.com/assets/colab-badge.svg\" alt=\"Open In Colab\"/></a>"
      ]
    },
    {
      "cell_type": "markdown",
      "metadata": {
        "id": "qTh9DiKVslsJ"
      },
      "source": [
        "## Dogs vs. Cats \n",
        "\n",
        "In this competition, you'll write an algorithm to classify whether images contain either a dog or a cat.  This is easy for humans, dogs, and cats. Your computer will find it a bit more difficult.\n",
        "\n",
        "![alt text](https://miro.medium.com/max/3000/1*bhFifratH9DjKqMBTeQG5A.gif)\n",
        "\n",
        "Ref: https://medium.com/@thegrigorian/rolling-in-the-deep-cnn-c8d3f7108c8c"
      ]
    },
    {
      "cell_type": "markdown",
      "metadata": {
        "id": "RSBI-_mSSY1g"
      },
      "source": [
        "Get your API Key from Kaggle using following steps:\n",
        "1. Login to [Kaggle](https://www.kaggle.com/) or Register if you don't have account\n",
        "2. Open Dataset (https://www.kaggle.com/c/dogs-vs-cats/rules) and accept terms and condition. \n",
        "3. On the top right corner click on your Icon and go to accounts and press a button \"Create New API Token\". It will download a JSON file containing your username and key. \n",
        "4. Now, paste both below. \n"
      ]
    },
    {
      "cell_type": "code",
      "metadata": {
        "id": "YmXSOc0tZIGA",
        "colab": {
          "base_uri": "https://localhost:8080/"
        },
        "outputId": "a719b90f-58ac-4573-fe7c-2ccc617718bf"
      },
      "source": [
        "import os\n",
        "os.environ['KAGGLE_USERNAME'] = \"bipashab\" # username from the json file\n",
        "os.environ['KAGGLE_KEY'] = \"02a287d0973b8d97365468022cab35e7\" # key from the json file\n",
        "!kaggle competitions download -c dogs-vs-cats # api copied from kaggle (https://www.kaggle.com/c/dogs-vs-cats/data)"
      ],
      "execution_count": null,
      "outputs": [
        {
          "output_type": "stream",
          "text": [
            "Warning: Looks like you're using an outdated API Version, please consider updating (server 1.5.10 / client 1.5.4)\n",
            "Downloading train.zip to /content\n",
            " 98% 532M/543M [00:03<00:00, 121MB/s] \n",
            "100% 543M/543M [00:03<00:00, 161MB/s]\n",
            "Downloading test1.zip to /content\n",
            " 94% 256M/271M [00:01<00:00, 131MB/s]\n",
            "100% 271M/271M [00:01<00:00, 145MB/s]\n",
            "Downloading sampleSubmission.csv to /content\n",
            "  0% 0.00/86.8k [00:00<?, ?B/s]\n",
            "100% 86.8k/86.8k [00:00<00:00, 88.1MB/s]\n"
          ],
          "name": "stdout"
        }
      ]
    },
    {
      "cell_type": "code",
      "metadata": {
        "id": "PiwIL8d1n7eS",
        "colab": {
          "base_uri": "https://localhost:8080/"
        },
        "outputId": "14130275-3af6-4234-92c0-61cf1618e060"
      },
      "source": [
        "# Unzip training data\n",
        "from zipfile import ZipFile\n",
        "file_name = \"/content/train.zip\"\n",
        "with ZipFile(file_name, 'r') as zip:\n",
        "  zip.extractall()\n",
        "  print('done')"
      ],
      "execution_count": null,
      "outputs": [
        {
          "output_type": "stream",
          "text": [
            "done\n"
          ],
          "name": "stdout"
        }
      ]
    },
    {
      "cell_type": "code",
      "metadata": {
        "id": "sa2Bj5i7pPKV",
        "colab": {
          "base_uri": "https://localhost:8080/"
        },
        "outputId": "75e7a5e3-c425-4277-b948-4e2bd509a8b0"
      },
      "source": [
        "# Get all the paths\n",
        "data_dir_list = os.listdir('/content/train')\n",
        "#print(data_dir_list)\n",
        "path, dirs, files = next(os.walk(\"/content/train\"))\n",
        "file_count = len(files)\n",
        "print(file_count)"
      ],
      "execution_count": null,
      "outputs": [
        {
          "output_type": "stream",
          "text": [
            "25000\n"
          ],
          "name": "stdout"
        }
      ]
    },
    {
      "cell_type": "code",
      "metadata": {
        "id": "0ERlHkfHqpK8"
      },
      "source": [
        "# Make new base directory\n",
        "original_dataset_dir = '/content/train'\n",
        "base_dir = '/content/cats_and_dogs_small'\n",
        "os.mkdir(base_dir)"
      ],
      "execution_count": null,
      "outputs": []
    },
    {
      "cell_type": "code",
      "metadata": {
        "id": "AANB1UJ6rQhM"
      },
      "source": [
        "train_dir = os.path.join(base_dir, 'train')\n",
        "os.mkdir(train_dir)\n",
        "\n",
        "validation_dir = os.path.join(base_dir, 'validation')\n",
        "os.mkdir(validation_dir)\n",
        "\n",
        "test_dir = os.path.join(base_dir, 'test')\n",
        "os.mkdir(test_dir)\n",
        "\n",
        "train_cats_dir = os.path.join(train_dir, 'cats')\n",
        "os.mkdir(train_cats_dir)\n",
        "\n",
        "train_dogs_dir = os.path.join(train_dir, 'dogs')\n",
        "os.mkdir(train_dogs_dir)\n",
        "\n",
        "validation_cats_dir = os.path.join(validation_dir, 'cats')\n",
        "os.mkdir(validation_cats_dir)\n",
        "\n",
        "validation_dogs_dir = os.path.join(validation_dir, 'dogs')\n",
        "os.mkdir(validation_dogs_dir)\n",
        "\n",
        "test_cats_dir = os.path.join(test_dir, 'cats')\n",
        "os.mkdir(test_cats_dir)\n",
        "\n",
        "test_dogs_dir = os.path.join(test_dir, 'dogs')\n",
        "os.mkdir(test_dogs_dir)"
      ],
      "execution_count": null,
      "outputs": []
    },
    {
      "cell_type": "code",
      "metadata": {
        "id": "ULRgL9s9rV8T"
      },
      "source": [
        "import shutil\n",
        "fnames = ['cat.{}.jpg'.format(i) for i in range(1000)]\n",
        "for fname in fnames:\n",
        "    src = os.path.join(original_dataset_dir, fname)\n",
        "    dst = os.path.join(train_cats_dir, fname)\n",
        "    #print(src,dst)\n",
        "    shutil.copyfile(src, dst)\n",
        "    \n",
        "fnames = ['cat.{}.jpg'.format(i) for i in range(1000, 1500)]\n",
        "for fname in fnames:\n",
        "    src = os.path.join(original_dataset_dir, fname)\n",
        "    dst = os.path.join(validation_cats_dir, fname)\n",
        "    shutil.copyfile(src, dst)\n",
        "\n",
        "fnames = ['cat.{}.jpg'.format(i) for i in range(1500, 2000)]\n",
        "for fname in fnames:\n",
        "    src = os.path.join(original_dataset_dir, fname)\n",
        "    dst = os.path.join(test_cats_dir, fname)\n",
        "    shutil.copyfile(src, dst)\n",
        "    \n",
        "fnames = ['dog.{}.jpg'.format(i) for i in range(1000)]\n",
        "for fname in fnames:\n",
        "    src = os.path.join(original_dataset_dir, fname)\n",
        "    dst = os.path.join(train_dogs_dir, fname)\n",
        "    shutil.copyfile(src, dst)\n",
        "\n",
        "fnames = ['dog.{}.jpg'.format(i) for i in range(1000, 1500)]\n",
        "for fname in fnames:\n",
        "    src = os.path.join(original_dataset_dir, fname)\n",
        "    dst = os.path.join(validation_dogs_dir, fname)\n",
        "    shutil.copyfile(src, dst)\n",
        "\n",
        "fnames = ['dog.{}.jpg'.format(i) for i in range(1500, 2000)]\n",
        "for fname in fnames:\n",
        "    src = os.path.join(original_dataset_dir, fname)\n",
        "    dst = os.path.join(test_dogs_dir, fname)\n",
        "    shutil.copyfile(src, dst)"
      ],
      "execution_count": null,
      "outputs": []
    },
    {
      "cell_type": "code",
      "metadata": {
        "id": "ul3XAbIyr7vC",
        "colab": {
          "base_uri": "https://localhost:8080/"
        },
        "outputId": "36573423-a2bb-4c64-b08a-398f2099562d"
      },
      "source": [
        "print('total training cat images:', len(os.listdir(train_cats_dir)))\n",
        "print('total training dog images:', len(os.listdir(train_dogs_dir)))\n",
        "print('total validation cat images:', len(os.listdir(validation_cats_dir)))\n",
        "\n",
        "print('total validation dog images:', len(os.listdir(validation_dogs_dir)))\n",
        "print('total test cat images:', len(os.listdir(test_cats_dir)))\n",
        "print('total test dog images:', len(os.listdir(test_dogs_dir)))"
      ],
      "execution_count": null,
      "outputs": [
        {
          "output_type": "stream",
          "text": [
            "total training cat images: 1000\n",
            "total training dog images: 1000\n",
            "total validation cat images: 500\n",
            "total validation dog images: 500\n",
            "total test cat images: 500\n",
            "total test dog images: 500\n"
          ],
          "name": "stdout"
        }
      ]
    },
    {
      "cell_type": "code",
      "metadata": {
        "id": "o9yTA21_r-ma",
        "colab": {
          "base_uri": "https://localhost:8080/"
        },
        "outputId": "8f10858e-b9ee-4ed1-a029-c022ee3903be"
      },
      "source": [
        "from keras import layers\n",
        "from keras import models\n",
        "\n",
        "model = models.Sequential()\n",
        "model.add(layers.Conv2D(32, (3, 3), activation='relu', input_shape=(150, 150, 3)))\n",
        "model.add(layers.MaxPooling2D((2, 2)))\n",
        "model.add(layers.Conv2D(64, (3, 3), activation='relu'))\n",
        "model.add(layers.MaxPooling2D((2, 2)))\n",
        "model.add(layers.Conv2D(128, (3, 3), activation='relu'))\n",
        "model.add(layers.MaxPooling2D((2, 2)))\n",
        "model.add(layers.Conv2D(128, (3, 3), activation='relu'))\n",
        "model.add(layers.MaxPooling2D((2, 2)))\n",
        "model.add(layers.Flatten())\n",
        "model.add(layers.Dense(512, activation='relu'))\n",
        "model.add(layers.Dense(1, activation='sigmoid'))\n",
        "model.summary()"
      ],
      "execution_count": null,
      "outputs": [
        {
          "output_type": "stream",
          "text": [
            "Model: \"sequential_1\"\n",
            "_________________________________________________________________\n",
            "Layer (type)                 Output Shape              Param #   \n",
            "=================================================================\n",
            "conv2d_4 (Conv2D)            (None, 148, 148, 32)      896       \n",
            "_________________________________________________________________\n",
            "max_pooling2d_4 (MaxPooling2 (None, 74, 74, 32)        0         \n",
            "_________________________________________________________________\n",
            "conv2d_5 (Conv2D)            (None, 72, 72, 64)        18496     \n",
            "_________________________________________________________________\n",
            "max_pooling2d_5 (MaxPooling2 (None, 36, 36, 64)        0         \n",
            "_________________________________________________________________\n",
            "conv2d_6 (Conv2D)            (None, 34, 34, 128)       73856     \n",
            "_________________________________________________________________\n",
            "max_pooling2d_6 (MaxPooling2 (None, 17, 17, 128)       0         \n",
            "_________________________________________________________________\n",
            "conv2d_7 (Conv2D)            (None, 15, 15, 128)       147584    \n",
            "_________________________________________________________________\n",
            "max_pooling2d_7 (MaxPooling2 (None, 7, 7, 128)         0         \n",
            "_________________________________________________________________\n",
            "flatten_1 (Flatten)          (None, 6272)              0         \n",
            "_________________________________________________________________\n",
            "dense_2 (Dense)              (None, 512)               3211776   \n",
            "_________________________________________________________________\n",
            "dense_3 (Dense)              (None, 1)                 513       \n",
            "=================================================================\n",
            "Total params: 3,453,121\n",
            "Trainable params: 3,453,121\n",
            "Non-trainable params: 0\n",
            "_________________________________________________________________\n"
          ],
          "name": "stdout"
        }
      ]
    },
    {
      "cell_type": "code",
      "metadata": {
        "id": "2mG8wekxsBVS"
      },
      "source": [
        "from keras import optimizers\n",
        "model.compile(loss='binary_crossentropy', \n",
        "              optimizer=optimizers.RMSprop(lr=1e-4),\n",
        "              metrics=['acc'])"
      ],
      "execution_count": null,
      "outputs": []
    },
    {
      "cell_type": "markdown",
      "metadata": {
        "id": "7zS4Klm8qWp6"
      },
      "source": [
        "## Using ImageDataGenerator to read images from directories\n",
        "As you know by now, data should be formatted into appropriately preprocessed floatingpoint tensors before being fed into the network. Currently, the data sits on a drive as JPEG files, so the steps for getting it into the network are roughly as follows:\n",
        "\n",
        "* Read the picture files.\n",
        "* Decode the JPEG content to RGB grids of pixels.\n",
        "* Convert these into floating-point tensors.\n",
        "* Rescale the pixel values (between 0 and 255) to the [0, 1] interval (as you know, neural networks prefer to deal with small input values).\n",
        "\n",
        "It may seem a bit daunting, but fortunately Keras has utilities to take care of these steps automatically. Keras has a module with image-processing helper tools, located at keras.preprocessing.image. In particular, it contains the class ImageDataGenerator,which lets you quickly set up Python generators that can automatically turn image files on disk into batches of preprocessed tensors."
      ]
    },
    {
      "cell_type": "code",
      "metadata": {
        "id": "XJ7XU7t9sEh6",
        "colab": {
          "base_uri": "https://localhost:8080/"
        },
        "outputId": "ea3a6b32-2a47-4ddc-8bed-a8082e976505"
      },
      "source": [
        "from keras.preprocessing.image import ImageDataGenerator\n",
        "\n",
        "train_datagen = ImageDataGenerator(rescale=1./255)\n",
        "test_datagen = ImageDataGenerator(rescale=1./255)\n",
        "\n",
        "train_generator = train_datagen.flow_from_directory(train_dir,\n",
        "                                                    target_size=(150, 150), \n",
        "                                                    batch_size=20,\n",
        "                                                    class_mode='binary')\n",
        "\n",
        "validation_generator = test_datagen.flow_from_directory(validation_dir,\n",
        "                                                        target_size=(150, 150),\n",
        "                                                        batch_size=20,\n",
        "                                                        class_mode='binary')"
      ],
      "execution_count": null,
      "outputs": [
        {
          "output_type": "stream",
          "text": [
            "Found 2000 images belonging to 2 classes.\n",
            "Found 1000 images belonging to 2 classes.\n"
          ],
          "name": "stdout"
        }
      ]
    },
    {
      "cell_type": "markdown",
      "metadata": {
        "id": "SEgLywySqm4u"
      },
      "source": [
        "Let’s fit the model to the data using the generator. You do so using the fit_generator method, the equivalent of fit for data generators like this one. It expects as its first argument a Python generator that will yield batches of inputs and targets indefinitely,like this one does. Because the data is being generated endlessly, the Keras model needs to know how many samples to draw from the generator before declaring anepoch over. This is the role of the `steps_per_epoch` argument: after having drawn `steps_per_epoch` batches from the generator—that is, after having run for `steps_per_epoch` gradient descent steps—the fitting process will go to the next epoch. In this case, batches are 20 samples, so it will take 100 batches until you see your target of 2,000 samples.\n",
        "\n",
        "When using fit_generator, you can pass a validation_data argument, much as with the fit method. It’s important to note that this argument is allowed to be a data generator, but it could also be a tuple of Numpy arrays. If you pass a generator as validation_data, then this generator is expected to yield batches of validation data endlessly; thus you should also specify the validation_steps argument, which tells the process how many batches to draw from the validation generator for evaluation."
      ]
    },
    {
      "cell_type": "code",
      "metadata": {
        "id": "yMyfPphJsJG6",
        "colab": {
          "base_uri": "https://localhost:8080/"
        },
        "outputId": "c89e52f5-5442-4c1f-c239-582ff68a3f1e"
      },
      "source": [
        "history = model.fit_generator(train_generator,\n",
        "                              steps_per_epoch=100,\n",
        "                              epochs=30,\n",
        "                              validation_data=validation_generator,\n",
        "                              validation_steps=10)"
      ],
      "execution_count": null,
      "outputs": [
        {
          "output_type": "stream",
          "text": [
            "/usr/local/lib/python3.7/dist-packages/tensorflow/python/keras/engine/training.py:1844: UserWarning: `Model.fit_generator` is deprecated and will be removed in a future version. Please use `Model.fit`, which supports generators.\n",
            "  warnings.warn('`Model.fit_generator` is deprecated and '\n"
          ],
          "name": "stderr"
        },
        {
          "output_type": "stream",
          "text": [
            "Epoch 1/30\n",
            "100/100 [==============================] - 40s 70ms/step - loss: 0.6970 - acc: 0.5178 - val_loss: 0.6731 - val_acc: 0.5900\n",
            "Epoch 2/30\n",
            "100/100 [==============================] - 7s 68ms/step - loss: 0.6670 - acc: 0.5869 - val_loss: 0.6341 - val_acc: 0.6300\n",
            "Epoch 3/30\n",
            "100/100 [==============================] - 7s 67ms/step - loss: 0.6359 - acc: 0.6266 - val_loss: 0.6371 - val_acc: 0.6000\n",
            "Epoch 4/30\n",
            "100/100 [==============================] - 7s 68ms/step - loss: 0.5960 - acc: 0.6711 - val_loss: 0.6157 - val_acc: 0.6950\n",
            "Epoch 5/30\n",
            "100/100 [==============================] - 7s 67ms/step - loss: 0.5453 - acc: 0.7274 - val_loss: 0.6089 - val_acc: 0.6800\n",
            "Epoch 6/30\n",
            "100/100 [==============================] - 7s 66ms/step - loss: 0.5229 - acc: 0.7456 - val_loss: 0.5751 - val_acc: 0.6850\n",
            "Epoch 7/30\n",
            "100/100 [==============================] - 7s 66ms/step - loss: 0.4958 - acc: 0.7615 - val_loss: 0.5970 - val_acc: 0.7050\n",
            "Epoch 8/30\n",
            "100/100 [==============================] - 7s 66ms/step - loss: 0.4642 - acc: 0.7786 - val_loss: 0.6005 - val_acc: 0.6750\n",
            "Epoch 9/30\n",
            "100/100 [==============================] - 7s 67ms/step - loss: 0.4408 - acc: 0.8007 - val_loss: 0.5762 - val_acc: 0.7150\n",
            "Epoch 10/30\n",
            "100/100 [==============================] - 7s 66ms/step - loss: 0.4254 - acc: 0.7950 - val_loss: 0.5892 - val_acc: 0.7100\n",
            "Epoch 11/30\n",
            "100/100 [==============================] - 7s 67ms/step - loss: 0.3908 - acc: 0.8163 - val_loss: 0.6551 - val_acc: 0.7050\n",
            "Epoch 12/30\n",
            "100/100 [==============================] - 7s 66ms/step - loss: 0.3902 - acc: 0.8188 - val_loss: 0.5933 - val_acc: 0.7050\n",
            "Epoch 13/30\n",
            "100/100 [==============================] - 7s 66ms/step - loss: 0.3504 - acc: 0.8569 - val_loss: 0.6222 - val_acc: 0.6450\n",
            "Epoch 14/30\n",
            "100/100 [==============================] - 7s 68ms/step - loss: 0.3181 - acc: 0.8602 - val_loss: 0.5266 - val_acc: 0.7400\n",
            "Epoch 15/30\n",
            "100/100 [==============================] - 7s 68ms/step - loss: 0.3103 - acc: 0.8662 - val_loss: 0.4983 - val_acc: 0.7600\n",
            "Epoch 16/30\n",
            "100/100 [==============================] - 7s 68ms/step - loss: 0.2819 - acc: 0.8908 - val_loss: 0.5908 - val_acc: 0.7000\n",
            "Epoch 17/30\n",
            "100/100 [==============================] - 7s 68ms/step - loss: 0.2750 - acc: 0.8824 - val_loss: 0.6127 - val_acc: 0.7450\n",
            "Epoch 18/30\n",
            "100/100 [==============================] - 7s 67ms/step - loss: 0.2453 - acc: 0.9139 - val_loss: 0.5505 - val_acc: 0.7500\n",
            "Epoch 19/30\n",
            "100/100 [==============================] - 7s 67ms/step - loss: 0.2195 - acc: 0.9181 - val_loss: 0.5190 - val_acc: 0.7400\n",
            "Epoch 20/30\n",
            "100/100 [==============================] - 7s 66ms/step - loss: 0.2108 - acc: 0.9202 - val_loss: 0.7250 - val_acc: 0.7200\n",
            "Epoch 21/30\n",
            "100/100 [==============================] - 7s 66ms/step - loss: 0.1846 - acc: 0.9232 - val_loss: 0.7013 - val_acc: 0.7000\n",
            "Epoch 22/30\n",
            "100/100 [==============================] - 7s 66ms/step - loss: 0.1554 - acc: 0.9487 - val_loss: 0.7325 - val_acc: 0.7000\n",
            "Epoch 23/30\n",
            "100/100 [==============================] - 7s 66ms/step - loss: 0.1552 - acc: 0.9429 - val_loss: 0.7106 - val_acc: 0.7500\n",
            "Epoch 24/30\n",
            "100/100 [==============================] - 7s 66ms/step - loss: 0.1226 - acc: 0.9591 - val_loss: 0.6946 - val_acc: 0.7050\n",
            "Epoch 25/30\n",
            "100/100 [==============================] - 7s 66ms/step - loss: 0.1018 - acc: 0.9734 - val_loss: 0.8488 - val_acc: 0.7000\n",
            "Epoch 26/30\n",
            "100/100 [==============================] - 7s 66ms/step - loss: 0.0974 - acc: 0.9673 - val_loss: 0.8865 - val_acc: 0.7100\n",
            "Epoch 27/30\n",
            "100/100 [==============================] - 7s 66ms/step - loss: 0.0784 - acc: 0.9816 - val_loss: 0.8867 - val_acc: 0.7550\n",
            "Epoch 28/30\n",
            "100/100 [==============================] - 7s 66ms/step - loss: 0.0746 - acc: 0.9737 - val_loss: 0.7517 - val_acc: 0.7750\n",
            "Epoch 29/30\n",
            "100/100 [==============================] - 7s 67ms/step - loss: 0.0582 - acc: 0.9881 - val_loss: 1.0483 - val_acc: 0.7050\n",
            "Epoch 30/30\n",
            "100/100 [==============================] - 7s 68ms/step - loss: 0.0497 - acc: 0.9876 - val_loss: 0.9021 - val_acc: 0.7500\n"
          ],
          "name": "stdout"
        }
      ]
    },
    {
      "cell_type": "code",
      "metadata": {
        "id": "MZaZ2HWZsNUi",
        "colab": {
          "base_uri": "https://localhost:8080/",
          "height": 545
        },
        "outputId": "ae497aee-788f-4ebb-a747-6fd5a7670883"
      },
      "source": [
        "model.save('cats_and_dogs_small_1.h5')\n",
        "\n",
        "import matplotlib.pyplot as plt\n",
        "\n",
        "acc = history.history['acc']\n",
        "val_acc = history.history['val_acc']\n",
        "loss = history.history['loss']\n",
        "val_loss = history.history['val_loss']\n",
        "\n",
        "epochs = range(1, len(acc) + 1)\n",
        "\n",
        "plt.plot(epochs, acc, 'bo', label='Training acc')\n",
        "plt.plot(epochs, val_acc, 'b', label='Validation acc')\n",
        "plt.title('Training and validation accuracy')\n",
        "plt.legend()\n",
        "\n",
        "plt.figure()\n",
        "\n",
        "plt.plot(epochs, loss, 'bo', label='Training loss')\n",
        "plt.plot(epochs, val_loss, 'b', label='Validation loss')\n",
        "plt.title('Training and validation loss')\n",
        "plt.legend()\n",
        "\n",
        "plt.show()"
      ],
      "execution_count": null,
      "outputs": [
        {
          "output_type": "display_data",
          "data": {
            "image/png": "[encoded data removed]",
            "text/plain": [
              "<Figure size 432x288 with 1 Axes>"
            ]
          },
          "metadata": {
            "tags": [],
            "needs_background": "light"
          }
        },
        {
          "output_type": "display_data",
          "data": {
            "image/png": "[encoded data removed]",
            "text/plain": [
              "<Figure size 432x288 with 1 Axes>"
            ]
          },
          "metadata": {
            "tags": [],
            "needs_background": "light"
          }
        }
      ]
    },
    {
      "cell_type": "markdown",
      "metadata": {
        "id": "XKZmXmBcq_8-"
      },
      "source": [
        "## Convolutional Networks with Dropout\n",
        "\n",
        "![alt text](https://camo.githubusercontent.com/ee6fa1073247cd2c3d241300caf110d7a7541bc5/68747470733a2f2f63646e2d696d616765732d312e6d656469756d2e636f6d2f6d61782f3830302f312a4972644a355067684439596f4f7956415137334d4a772e676966)\n",
        "\n",
        "Ref: https://github.com/mneha4/Training-Neural-Nets---Guidelines"
      ]
    },
    {
      "cell_type": "code",
      "metadata": {
        "id": "wu3cqeYQrDeN"
      },
      "source": [
        "from keras import layers\n",
        "from keras import models\n",
        "from keras import optimizers\n",
        "model = models.Sequential()\n",
        "model.add(layers.Conv2D(32, (3, 3), activation='relu',\n",
        "input_shape=(150, 150, 3)))\n",
        "model.add(layers.MaxPooling2D((2, 2)))\n",
        "model.add(layers.Conv2D(64, (3, 3), activation='relu'))\n",
        "model.add(layers.MaxPooling2D((2, 2)))\n",
        "model.add(layers.Conv2D(128, (3, 3), activation='relu'))\n",
        "model.add(layers.MaxPooling2D((2, 2)))\n",
        "model.add(layers.Conv2D(128, (3, 3), activation='relu'))\n",
        "model.add(layers.MaxPooling2D((2, 2)))\n",
        "model.add(layers.Flatten())\n",
        "model.add(layers.Dropout(0.5))\n",
        "model.add(layers.Dense(512, activation='relu'))\n",
        "model.add(layers.Dense(1, activation='sigmoid'))\n",
        "\n",
        "model.compile(loss='binary_crossentropy',\n",
        "              optimizer=optimizers.RMSprop(lr=1e-4),\n",
        "              metrics=['acc'])"
      ],
      "execution_count": null,
      "outputs": []
    },
    {
      "cell_type": "code",
      "metadata": {
        "id": "QSeLpvY0rH7F",
        "colab": {
          "base_uri": "https://localhost:8080/"
        },
        "outputId": "886c365c-3a69-44f7-82c1-c8fadabdf7d1"
      },
      "source": [
        "\n",
        "train_datagen = ImageDataGenerator(rescale=1./255,\n",
        "                                   rotation_range=40,\n",
        "                                   width_shift_range=0.2,\n",
        "                                   height_shift_range=0.2,\n",
        "                                   shear_range=0.2,\n",
        "                                   zoom_range=0.2,\n",
        "                                   horizontal_flip=True,)\n",
        "\n",
        "test_datagen = ImageDataGenerator(rescale=1./255)\n",
        "\n",
        "train_generator = train_datagen.flow_from_directory(train_dir,\n",
        "                                                    target_size=(150, 150),\n",
        "                                                    batch_size=20,\n",
        "                                                    class_mode='binary')\n",
        "\n",
        "validation_generator = test_datagen.flow_from_directory(validation_dir,\n",
        "                                                        target_size=(150, 150),\n",
        "                                                        batch_size=20,\n",
        "                                                        class_mode='binary')\n",
        "\n"
      ],
      "execution_count": null,
      "outputs": [
        {
          "output_type": "stream",
          "text": [
            "Found 2000 images belonging to 2 classes.\n",
            "Found 1000 images belonging to 2 classes.\n"
          ],
          "name": "stdout"
        }
      ]
    },
    {
      "cell_type": "code",
      "metadata": {
        "id": "J9ETG4ISOaU9"
      },
      "source": [
        "history = model.fit_generator(train_generator,\n",
        "                              steps_per_epoch=100,\n",
        "                              epochs=20,\n",
        "                              validation_data=validation_generator,\n",
        "                              validation_steps=50)"
      ],
      "execution_count": null,
      "outputs": []
    },
    {
      "cell_type": "markdown",
      "metadata": {
        "id": "BRdU5yrkUF_b"
      },
      "source": [
        "# Task 2:\n",
        "\n",
        "We have used Dropout to enhance the performance of the CNN model. Can you please use whatever you like to further enhance the performance from `val_acc: 0.7506`? "
      ]
    },
    {
      "cell_type": "code",
      "metadata": {
        "colab": {
          "base_uri": "https://localhost:8080/"
        },
        "id": "BwDM6MBeOP8v",
        "outputId": "7d953b26-c838-4f39-d690-8b9b97b0bed1"
      },
      "source": [
        "train_generator = train_datagen.flow_from_directory(train_dir,\n",
        "                                                    target_size=(150, 150),\n",
        "                                                    batch_size=32,\n",
        "                                                    class_mode='binary')\n",
        "\n",
        "validation_generator = test_datagen.flow_from_directory(validation_dir,\n",
        "                                                        target_size=(150, 150),\n",
        "                                                        batch_size=32,\n",
        "                                                        class_mode='binary')\n",
        "\n",
        "model.fit_generator(train_generator,\n",
        "                              steps_per_epoch=1500//32,\n",
        "                              epochs=64,\n",
        "                              validation_data=validation_generator,\n",
        "                              validation_steps=1500//32)"
      ],
      "execution_count": null,
      "outputs": [
        {
          "output_type": "stream",
          "text": [
            "Found 2000 images belonging to 2 classes.\n",
            "Found 1000 images belonging to 2 classes.\n"
          ],
          "name": "stdout"
        },
        {
          "output_type": "stream",
          "text": [
            "/usr/local/lib/python3.7/dist-packages/tensorflow/python/keras/engine/training.py:1844: UserWarning: `Model.fit_generator` is deprecated and will be removed in a future version. Please use `Model.fit`, which supports generators.\n",
            "  warnings.warn('`Model.fit_generator` is deprecated and '\n"
          ],
          "name": "stderr"
        },
        {
          "output_type": "stream",
          "text": [
            "Epoch 1/64\n",
            "46/46 [==============================] - ETA: 0s - loss: 0.5453 - acc: 0.7283WARNING:tensorflow:Your input ran out of data; interrupting training. Make sure that your dataset or generator can generate at least `steps_per_epoch * epochs` batches (in this case, 46 batches). You may need to use the repeat() function when building your dataset.\n",
            "46/46 [==============================] - 14s 287ms/step - loss: 0.5453 - acc: 0.7283 - val_loss: 0.5201 - val_acc: 0.7390\n",
            "Epoch 2/64\n",
            "46/46 [==============================] - 11s 228ms/step - loss: 0.5523 - acc: 0.7157\n",
            "Epoch 3/64\n",
            "46/46 [==============================] - 10s 226ms/step - loss: 0.5367 - acc: 0.7330\n",
            "Epoch 4/64\n",
            "46/46 [==============================] - 10s 224ms/step - loss: 0.5441 - acc: 0.7133\n",
            "Epoch 5/64\n",
            "46/46 [==============================] - 10s 223ms/step - loss: 0.5308 - acc: 0.7246\n",
            "Epoch 6/64\n",
            "46/46 [==============================] - 10s 225ms/step - loss: 0.5294 - acc: 0.7260\n",
            "Epoch 7/64\n",
            "46/46 [==============================] - 10s 225ms/step - loss: 0.5554 - acc: 0.7129\n",
            "Epoch 8/64\n",
            "46/46 [==============================] - 10s 226ms/step - loss: 0.5252 - acc: 0.7342\n",
            "Epoch 9/64\n",
            "46/46 [==============================] - 10s 222ms/step - loss: 0.5278 - acc: 0.7459\n",
            "Epoch 10/64\n",
            "46/46 [==============================] - 10s 222ms/step - loss: 0.5250 - acc: 0.7246\n",
            "Epoch 11/64\n",
            "46/46 [==============================] - 10s 223ms/step - loss: 0.5353 - acc: 0.7221\n",
            "Epoch 12/64\n",
            "46/46 [==============================] - 10s 223ms/step - loss: 0.5201 - acc: 0.7335\n",
            "Epoch 13/64\n",
            "46/46 [==============================] - 10s 224ms/step - loss: 0.5210 - acc: 0.7432\n",
            "Epoch 14/64\n",
            "46/46 [==============================] - 10s 223ms/step - loss: 0.5190 - acc: 0.7376\n",
            "Epoch 15/64\n",
            "46/46 [==============================] - 10s 224ms/step - loss: 0.5268 - acc: 0.7351\n",
            "Epoch 16/64\n",
            "46/46 [==============================] - 10s 223ms/step - loss: 0.5256 - acc: 0.7253\n",
            "Epoch 17/64\n",
            "46/46 [==============================] - 10s 221ms/step - loss: 0.5115 - acc: 0.7466\n",
            "Epoch 18/64\n",
            "46/46 [==============================] - 10s 221ms/step - loss: 0.4963 - acc: 0.7548\n",
            "Epoch 19/64\n",
            "46/46 [==============================] - 10s 221ms/step - loss: 0.5136 - acc: 0.7473\n",
            "Epoch 20/64\n",
            "46/46 [==============================] - 10s 222ms/step - loss: 0.5243 - acc: 0.7356\n",
            "Epoch 21/64\n",
            "46/46 [==============================] - 10s 223ms/step - loss: 0.5116 - acc: 0.7588\n",
            "Epoch 22/64\n",
            "46/46 [==============================] - 10s 224ms/step - loss: 0.5128 - acc: 0.7479\n",
            "Epoch 23/64\n",
            "46/46 [==============================] - 10s 223ms/step - loss: 0.5139 - acc: 0.7493\n",
            "Epoch 24/64\n",
            "46/46 [==============================] - 10s 221ms/step - loss: 0.5075 - acc: 0.7452\n",
            "Epoch 25/64\n",
            "46/46 [==============================] - 10s 221ms/step - loss: 0.5099 - acc: 0.7651\n",
            "Epoch 26/64\n",
            "46/46 [==============================] - 10s 225ms/step - loss: 0.4946 - acc: 0.7541\n",
            "Epoch 27/64\n",
            "46/46 [==============================] - 10s 222ms/step - loss: 0.4960 - acc: 0.7486\n",
            "Epoch 28/64\n",
            "46/46 [==============================] - 10s 222ms/step - loss: 0.4955 - acc: 0.7541\n",
            "Epoch 29/64\n",
            "46/46 [==============================] - 10s 225ms/step - loss: 0.4778 - acc: 0.7644\n",
            "Epoch 30/64\n",
            "46/46 [==============================] - 10s 222ms/step - loss: 0.4965 - acc: 0.7486\n",
            "Epoch 31/64\n",
            "46/46 [==============================] - 10s 221ms/step - loss: 0.4862 - acc: 0.7624\n",
            "Epoch 32/64\n",
            "46/46 [==============================] - 10s 222ms/step - loss: 0.5009 - acc: 0.7514\n",
            "Epoch 33/64\n",
            "46/46 [==============================] - 10s 222ms/step - loss: 0.4771 - acc: 0.7656\n",
            "Epoch 34/64\n",
            "46/46 [==============================] - 10s 221ms/step - loss: 0.4828 - acc: 0.7713\n",
            "Epoch 35/64\n",
            "46/46 [==============================] - 10s 221ms/step - loss: 0.4764 - acc: 0.7754\n",
            "Epoch 36/64\n",
            "46/46 [==============================] - 10s 223ms/step - loss: 0.4906 - acc: 0.7630\n",
            "Epoch 37/64\n",
            "46/46 [==============================] - 10s 223ms/step - loss: 0.4733 - acc: 0.7740\n",
            "Epoch 38/64\n",
            "46/46 [==============================] - 10s 225ms/step - loss: 0.4631 - acc: 0.7919\n",
            "Epoch 39/64\n",
            "46/46 [==============================] - 10s 221ms/step - loss: 0.4894 - acc: 0.7521\n",
            "Epoch 40/64\n",
            "46/46 [==============================] - 10s 220ms/step - loss: 0.4807 - acc: 0.7720\n",
            "Epoch 41/64\n",
            "46/46 [==============================] - 10s 223ms/step - loss: 0.4576 - acc: 0.7799\n",
            "Epoch 42/64\n",
            "46/46 [==============================] - 10s 221ms/step - loss: 0.4646 - acc: 0.7802\n",
            "Epoch 43/64\n",
            "46/46 [==============================] - 10s 221ms/step - loss: 0.4655 - acc: 0.7768\n",
            "Epoch 44/64\n",
            "46/46 [==============================] - 10s 220ms/step - loss: 0.4636 - acc: 0.7727\n",
            "Epoch 45/64\n",
            "46/46 [==============================] - 10s 222ms/step - loss: 0.4637 - acc: 0.7747\n",
            "Epoch 46/64\n",
            "46/46 [==============================] - 10s 220ms/step - loss: 0.4644 - acc: 0.7788\n",
            "Epoch 47/64\n",
            "46/46 [==============================] - 10s 221ms/step - loss: 0.4687 - acc: 0.7717\n",
            "Epoch 48/64\n",
            "46/46 [==============================] - 10s 223ms/step - loss: 0.4603 - acc: 0.7758\n",
            "Epoch 49/64\n",
            "46/46 [==============================] - 10s 220ms/step - loss: 0.4687 - acc: 0.7740\n",
            "Epoch 50/64\n",
            "46/46 [==============================] - 10s 221ms/step - loss: 0.4657 - acc: 0.7837\n",
            "Epoch 51/64\n",
            "46/46 [==============================] - 10s 221ms/step - loss: 0.4814 - acc: 0.7692\n",
            "Epoch 52/64\n",
            "46/46 [==============================] - 10s 224ms/step - loss: 0.4513 - acc: 0.7792\n",
            "Epoch 53/64\n",
            "46/46 [==============================] - 10s 222ms/step - loss: 0.4743 - acc: 0.7706\n",
            "Epoch 54/64\n",
            "46/46 [==============================] - 10s 222ms/step - loss: 0.4496 - acc: 0.7816\n",
            "Epoch 55/64\n",
            "46/46 [==============================] - 10s 220ms/step - loss: 0.4570 - acc: 0.7995\n",
            "Epoch 56/64\n",
            "46/46 [==============================] - 10s 221ms/step - loss: 0.4340 - acc: 0.7933\n",
            "Epoch 57/64\n",
            "46/46 [==============================] - 10s 222ms/step - loss: 0.4537 - acc: 0.7885\n",
            "Epoch 58/64\n",
            "46/46 [==============================] - 10s 221ms/step - loss: 0.4544 - acc: 0.7878\n",
            "Epoch 59/64\n",
            "46/46 [==============================] - 10s 219ms/step - loss: 0.4516 - acc: 0.7843\n",
            "Epoch 60/64\n",
            "46/46 [==============================] - 10s 223ms/step - loss: 0.4485 - acc: 0.7853\n",
            "Epoch 61/64\n",
            "46/46 [==============================] - 10s 221ms/step - loss: 0.4387 - acc: 0.8015\n",
            "Epoch 62/64\n",
            "46/46 [==============================] - 10s 220ms/step - loss: 0.4588 - acc: 0.7837\n",
            "Epoch 63/64\n",
            "46/46 [==============================] - 10s 221ms/step - loss: 0.4412 - acc: 0.7878\n",
            "Epoch 64/64\n",
            "46/46 [==============================] - 10s 224ms/step - loss: 0.4420 - acc: 0.7874\n"
          ],
          "name": "stdout"
        },
        {
          "output_type": "execute_result",
          "data": {
            "text/plain": [
              "<tensorflow.python.keras.callbacks.History at 0x7fbe2dd87fd0>"
            ]
          },
          "metadata": {
            "tags": []
          },
          "execution_count": 15
        }
      ]
    },
    {
      "cell_type": "markdown",
      "metadata": {
        "id": "3WeNZwhmOnIg"
      },
      "source": [
        "We got 80% accuracy at Epoch 61"
      ]
    },
    {
      "cell_type": "code",
      "metadata": {
        "id": "VwzS1mQkRwE0"
      },
      "source": [
        ""
      ],
      "execution_count": null,
      "outputs": []
    }
  ]
}