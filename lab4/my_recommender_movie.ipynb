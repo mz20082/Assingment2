{
  "nbformat": 4,
  "nbformat_minor": 0,
  "metadata": {
    "colab": {
      "name": "my_recommender_movie.ipynb",
      "provenance": [],
      "collapsed_sections": [],
      "authorship_tag": "ABX9TyM5jrbgYJ9gGhT1aDK1yacj",
      "include_colab_link": true
    },
    "kernelspec": {
      "name": "python3",
      "display_name": "Python 3"
    },
    "accelerator": "GPU"
  },
  "cells": [
    {
      "cell_type": "markdown",
      "metadata": {
        "id": "view-in-github",
        "colab_type": "text"
      },
      "source": [
        "<a href=\"https://colab.research.google.com/github/bb20417/CE888/blob/main/lab4/my_recommender_movie.ipynb\" target=\"_parent\"><img src=\"https://colab.research.google.com/assets/colab-badge.svg\" alt=\"Open In Colab\"/></a>"
      ]
    },
    {
      "cell_type": "code",
      "metadata": {
        "id": "ybD2fvh0Lpy-"
      },
      "source": [
        "import pandas as pd\n",
        "import numpy as np\n",
        "import operator"
      ],
      "execution_count": 14,
      "outputs": []
    },
    {
      "cell_type": "code",
      "metadata": {
        "id": "zzE4jmj_Lndt"
      },
      "source": [
        "df0 = pd.ExcelFile('https://github.com/albanda/CE888/blob/master/lab4-recommender/movies_latent_factors.xlsx?raw=true')"
      ],
      "execution_count": 2,
      "outputs": []
    },
    {
      "cell_type": "code",
      "metadata": {
        "id": "fxGJ1zyDL-lP",
        "colab": {
          "base_uri": "https://localhost:8080/"
        },
        "outputId": "26904aea-36c6-449c-90e9-1be4144a2cc2"
      },
      "source": [
        "df0.sheet_names"
      ],
      "execution_count": 3,
      "outputs": [
        {
          "output_type": "execute_result",
          "data": {
            "text/plain": [
              "['Items', 'Users']"
            ]
          },
          "metadata": {
            "tags": []
          },
          "execution_count": 3
        }
      ]
    },
    {
      "cell_type": "code",
      "metadata": {
        "id": "WwlO2XW4WRoY"
      },
      "source": [
        "df_Items = pd.read_excel('https://github.com/albanda/CE888/blob/master/lab4-recommender/movies_latent_factors.xlsx?raw=true',sheet_name='Items',index_col=None)"
      ],
      "execution_count": 4,
      "outputs": []
    },
    {
      "cell_type": "code",
      "metadata": {
        "colab": {
          "base_uri": "https://localhost:8080/",
          "height": 496
        },
        "id": "lrxpjotRWnN1",
        "outputId": "e5afd5a6-1232-490f-9a7c-7f5bac4d3eea"
      },
      "source": [
        "df_Items.head()"
      ],
      "execution_count": 5,
      "outputs": [
        {
          "output_type": "execute_result",
          "data": {
            "text/html": [
              "<div>\n",
              "<style scoped>\n",
              "    .dataframe tbody tr th:only-of-type {\n",
              "        vertical-align: middle;\n",
              "    }\n",
              "\n",
              "    .dataframe tbody tr th {\n",
              "        vertical-align: top;\n",
              "    }\n",
              "\n",
              "    .dataframe thead th {\n",
              "        text-align: right;\n",
              "    }\n",
              "</style>\n",
              "<table border=\"1\" class=\"dataframe\">\n",
              "  <thead>\n",
              "    <tr style=\"text-align: right;\">\n",
              "      <th></th>\n",
              "      <th>Movie ID</th>\n",
              "      <th>Title</th>\n",
              "      <th>Factor1</th>\n",
              "      <th>Factor2</th>\n",
              "      <th>Factor3</th>\n",
              "      <th>Factor4</th>\n",
              "      <th>Factor5</th>\n",
              "      <th>Factor6</th>\n",
              "      <th>Factor7</th>\n",
              "      <th>Factor8</th>\n",
              "      <th>Factor9</th>\n",
              "      <th>Factor10</th>\n",
              "      <th>Factor11</th>\n",
              "      <th>Factor12</th>\n",
              "      <th>Factor13</th>\n",
              "      <th>Factor14</th>\n",
              "      <th>Factor15</th>\n",
              "    </tr>\n",
              "  </thead>\n",
              "  <tbody>\n",
              "    <tr>\n",
              "      <th>0</th>\n",
              "      <td>11</td>\n",
              "      <td>Star Wars: Episode IV - A New Hope (1977)</td>\n",
              "      <td>-1.521848</td>\n",
              "      <td>-1.038507</td>\n",
              "      <td>2.027269</td>\n",
              "      <td>0.247933</td>\n",
              "      <td>-0.594548</td>\n",
              "      <td>2.513260</td>\n",
              "      <td>-1.848910</td>\n",
              "      <td>0.476710</td>\n",
              "      <td>-0.224146</td>\n",
              "      <td>-0.760681</td>\n",
              "      <td>-0.973915</td>\n",
              "      <td>0.862379</td>\n",
              "      <td>0.403861</td>\n",
              "      <td>1.129616</td>\n",
              "      <td>-0.248806</td>\n",
              "    </tr>\n",
              "    <tr>\n",
              "      <th>1</th>\n",
              "      <td>12</td>\n",
              "      <td>Finding Nemo (2003)</td>\n",
              "      <td>-0.342185</td>\n",
              "      <td>-0.296586</td>\n",
              "      <td>-0.385962</td>\n",
              "      <td>2.443297</td>\n",
              "      <td>-1.097015</td>\n",
              "      <td>-0.619465</td>\n",
              "      <td>0.572887</td>\n",
              "      <td>0.329516</td>\n",
              "      <td>-0.712228</td>\n",
              "      <td>0.323554</td>\n",
              "      <td>-0.561948</td>\n",
              "      <td>-0.142405</td>\n",
              "      <td>-0.564415</td>\n",
              "      <td>0.506876</td>\n",
              "      <td>1.274993</td>\n",
              "    </tr>\n",
              "    <tr>\n",
              "      <th>2</th>\n",
              "      <td>13</td>\n",
              "      <td>Forrest Gump (1994)</td>\n",
              "      <td>-2.240888</td>\n",
              "      <td>-0.438815</td>\n",
              "      <td>-2.275177</td>\n",
              "      <td>0.614548</td>\n",
              "      <td>0.904469</td>\n",
              "      <td>0.711919</td>\n",
              "      <td>-0.420876</td>\n",
              "      <td>1.302036</td>\n",
              "      <td>-0.868418</td>\n",
              "      <td>-0.160122</td>\n",
              "      <td>0.633667</td>\n",
              "      <td>0.133138</td>\n",
              "      <td>-0.330276</td>\n",
              "      <td>-2.209004</td>\n",
              "      <td>-0.419092</td>\n",
              "    </tr>\n",
              "    <tr>\n",
              "      <th>3</th>\n",
              "      <td>14</td>\n",
              "      <td>American Beauty (1999)</td>\n",
              "      <td>-0.634531</td>\n",
              "      <td>2.186059</td>\n",
              "      <td>-0.066681</td>\n",
              "      <td>0.086197</td>\n",
              "      <td>0.517558</td>\n",
              "      <td>-0.185319</td>\n",
              "      <td>-0.412352</td>\n",
              "      <td>0.063841</td>\n",
              "      <td>0.075937</td>\n",
              "      <td>-0.577682</td>\n",
              "      <td>0.526803</td>\n",
              "      <td>-1.465557</td>\n",
              "      <td>-0.819682</td>\n",
              "      <td>0.549010</td>\n",
              "      <td>-0.681191</td>\n",
              "    </tr>\n",
              "    <tr>\n",
              "      <th>4</th>\n",
              "      <td>22</td>\n",
              "      <td>Pirates of the Caribbean: The Curse of the Bla...</td>\n",
              "      <td>0.517348</td>\n",
              "      <td>-1.456763</td>\n",
              "      <td>0.369161</td>\n",
              "      <td>0.073903</td>\n",
              "      <td>-0.098332</td>\n",
              "      <td>-0.594722</td>\n",
              "      <td>0.828888</td>\n",
              "      <td>0.033626</td>\n",
              "      <td>-0.707414</td>\n",
              "      <td>0.717877</td>\n",
              "      <td>1.394326</td>\n",
              "      <td>-0.786986</td>\n",
              "      <td>1.429191</td>\n",
              "      <td>0.855746</td>\n",
              "      <td>-2.292566</td>\n",
              "    </tr>\n",
              "  </tbody>\n",
              "</table>\n",
              "</div>"
            ],
            "text/plain": [
              "   Movie ID  ...  Factor15\n",
              "0        11  ... -0.248806\n",
              "1        12  ...  1.274993\n",
              "2        13  ... -0.419092\n",
              "3        14  ... -0.681191\n",
              "4        22  ... -2.292566\n",
              "\n",
              "[5 rows x 17 columns]"
            ]
          },
          "metadata": {
            "tags": []
          },
          "execution_count": 5
        }
      ]
    },
    {
      "cell_type": "code",
      "metadata": {
        "id": "9aU4BuhBWzYK"
      },
      "source": [
        "df_Users = pd.read_excel('https://github.com/albanda/CE888/blob/master/lab4-recommender/movies_latent_factors.xlsx?raw=true',sheet_name='Users', index_col=None)"
      ],
      "execution_count": 6,
      "outputs": []
    },
    {
      "cell_type": "code",
      "metadata": {
        "colab": {
          "base_uri": "https://localhost:8080/",
          "height": 204
        },
        "id": "S2YpCSxtXGSS",
        "outputId": "181dbc20-bbfc-4bf9-dedd-17aad5743c33"
      },
      "source": [
        "df_Users.head()"
      ],
      "execution_count": 7,
      "outputs": [
        {
          "output_type": "execute_result",
          "data": {
            "text/html": [
              "<div>\n",
              "<style scoped>\n",
              "    .dataframe tbody tr th:only-of-type {\n",
              "        vertical-align: middle;\n",
              "    }\n",
              "\n",
              "    .dataframe tbody tr th {\n",
              "        vertical-align: top;\n",
              "    }\n",
              "\n",
              "    .dataframe thead th {\n",
              "        text-align: right;\n",
              "    }\n",
              "</style>\n",
              "<table border=\"1\" class=\"dataframe\">\n",
              "  <thead>\n",
              "    <tr style=\"text-align: right;\">\n",
              "      <th></th>\n",
              "      <th>User</th>\n",
              "      <th>Factor1</th>\n",
              "      <th>Factor2</th>\n",
              "      <th>Factor3</th>\n",
              "      <th>Factor4</th>\n",
              "      <th>Factor5</th>\n",
              "      <th>Factor6</th>\n",
              "      <th>Factor7</th>\n",
              "      <th>Factor8</th>\n",
              "      <th>Factor9</th>\n",
              "      <th>Factor10</th>\n",
              "      <th>Factor11</th>\n",
              "      <th>Factor12</th>\n",
              "      <th>Factor13</th>\n",
              "      <th>Factor14</th>\n",
              "      <th>Factor15</th>\n",
              "    </tr>\n",
              "  </thead>\n",
              "  <tbody>\n",
              "    <tr>\n",
              "      <th>0</th>\n",
              "      <td>4768</td>\n",
              "      <td>-0.204024</td>\n",
              "      <td>0.161079</td>\n",
              "      <td>-0.090447</td>\n",
              "      <td>0.138495</td>\n",
              "      <td>-0.162934</td>\n",
              "      <td>0.163894</td>\n",
              "      <td>0.051502</td>\n",
              "      <td>-0.088582</td>\n",
              "      <td>0.126829</td>\n",
              "      <td>0.065967</td>\n",
              "      <td>0.085008</td>\n",
              "      <td>0.355404</td>\n",
              "      <td>0.007108</td>\n",
              "      <td>-0.118663</td>\n",
              "      <td>-0.039125</td>\n",
              "    </tr>\n",
              "    <tr>\n",
              "      <th>1</th>\n",
              "      <td>156</td>\n",
              "      <td>-0.189652</td>\n",
              "      <td>-0.178979</td>\n",
              "      <td>-0.091490</td>\n",
              "      <td>-0.000823</td>\n",
              "      <td>-0.032646</td>\n",
              "      <td>0.177209</td>\n",
              "      <td>-0.098123</td>\n",
              "      <td>-0.068283</td>\n",
              "      <td>-0.011575</td>\n",
              "      <td>0.120866</td>\n",
              "      <td>-0.009931</td>\n",
              "      <td>-0.048606</td>\n",
              "      <td>0.045916</td>\n",
              "      <td>0.113671</td>\n",
              "      <td>0.179873</td>\n",
              "    </tr>\n",
              "    <tr>\n",
              "      <th>2</th>\n",
              "      <td>5323</td>\n",
              "      <td>-0.115308</td>\n",
              "      <td>-0.090886</td>\n",
              "      <td>-0.053129</td>\n",
              "      <td>0.018472</td>\n",
              "      <td>-0.068081</td>\n",
              "      <td>-0.004828</td>\n",
              "      <td>0.113005</td>\n",
              "      <td>0.102107</td>\n",
              "      <td>0.034758</td>\n",
              "      <td>0.000693</td>\n",
              "      <td>-0.073712</td>\n",
              "      <td>-0.019460</td>\n",
              "      <td>0.108372</td>\n",
              "      <td>0.054471</td>\n",
              "      <td>-0.109552</td>\n",
              "    </tr>\n",
              "    <tr>\n",
              "      <th>3</th>\n",
              "      <td>174</td>\n",
              "      <td>-0.227462</td>\n",
              "      <td>-0.272532</td>\n",
              "      <td>-0.017231</td>\n",
              "      <td>0.054324</td>\n",
              "      <td>0.214755</td>\n",
              "      <td>-0.072639</td>\n",
              "      <td>-0.033122</td>\n",
              "      <td>-0.086508</td>\n",
              "      <td>-0.131479</td>\n",
              "      <td>0.180403</td>\n",
              "      <td>0.095890</td>\n",
              "      <td>-0.082396</td>\n",
              "      <td>0.036767</td>\n",
              "      <td>-0.165438</td>\n",
              "      <td>0.050692</td>\n",
              "    </tr>\n",
              "    <tr>\n",
              "      <th>4</th>\n",
              "      <td>4529</td>\n",
              "      <td>-0.014616</td>\n",
              "      <td>-0.102218</td>\n",
              "      <td>-0.107935</td>\n",
              "      <td>0.155784</td>\n",
              "      <td>-0.123362</td>\n",
              "      <td>-0.118228</td>\n",
              "      <td>-0.013549</td>\n",
              "      <td>-0.050622</td>\n",
              "      <td>0.058698</td>\n",
              "      <td>-0.159600</td>\n",
              "      <td>-0.142382</td>\n",
              "      <td>-0.132836</td>\n",
              "      <td>-0.039897</td>\n",
              "      <td>0.129063</td>\n",
              "      <td>0.102669</td>\n",
              "    </tr>\n",
              "  </tbody>\n",
              "</table>\n",
              "</div>"
            ],
            "text/plain": [
              "   User   Factor1   Factor2   Factor3  ...  Factor12  Factor13  Factor14  Factor15\n",
              "0  4768 -0.204024  0.161079 -0.090447  ...  0.355404  0.007108 -0.118663 -0.039125\n",
              "1   156 -0.189652 -0.178979 -0.091490  ... -0.048606  0.045916  0.113671  0.179873\n",
              "2  5323 -0.115308 -0.090886 -0.053129  ... -0.019460  0.108372  0.054471 -0.109552\n",
              "3   174 -0.227462 -0.272532 -0.017231  ... -0.082396  0.036767 -0.165438  0.050692\n",
              "4  4529 -0.014616 -0.102218 -0.107935  ... -0.132836 -0.039897  0.129063  0.102669\n",
              "\n",
              "[5 rows x 16 columns]"
            ]
          },
          "metadata": {
            "tags": []
          },
          "execution_count": 7
        }
      ]
    },
    {
      "cell_type": "code",
      "metadata": {
        "colab": {
          "base_uri": "https://localhost:8080/"
        },
        "id": "28yJ40VSC9Rt",
        "outputId": "5fd8a69e-6f65-4fc4-9daf-cb850afd0595"
      },
      "source": [
        "df_Users.shape, df_Items.shape"
      ],
      "execution_count": 8,
      "outputs": [
        {
          "output_type": "execute_result",
          "data": {
            "text/plain": [
              "((25, 16), (100, 17))"
            ]
          },
          "metadata": {
            "tags": []
          },
          "execution_count": 8
        }
      ]
    },
    {
      "cell_type": "code",
      "metadata": {
        "id": "PIbwHOiNFRyj"
      },
      "source": [
        "# Which 3 movies would you recommend to User 174?\n",
        "# user with ID 5338 will give to the movie with ID 155.\n",
        "num_factors = df_Users.shape[1]-1\n",
        "user_pref = df_Users[df_Users['User'] == 3519].iloc[:, -num_factors:].values[0]\n",
        "item_feat = df_Items.iloc[:, -num_factors:].values"
      ],
      "execution_count": 89,
      "outputs": []
    },
    {
      "cell_type": "code",
      "metadata": {
        "colab": {
          "base_uri": "https://localhost:8080/"
        },
        "id": "B_-gmeeQKz3N",
        "outputId": "1b72fca4-0cc9-49e6-c3fc-e4916eed45a9"
      },
      "source": [
        "#df_Items[df_Items['Movie ID']==155].index.values[0]"
      ],
      "execution_count": 74,
      "outputs": [
        {
          "output_type": "execute_result",
          "data": {
            "text/plain": [
              "21"
            ]
          },
          "metadata": {
            "tags": []
          },
          "execution_count": 74
        }
      ]
    },
    {
      "cell_type": "code",
      "metadata": {
        "id": "Zi7HhS4IInP7"
      },
      "source": [
        "#user with ID 5338 will give to the movie with ID 155\n",
        "#data.iloc[[0,3,6,24], [0,5,6]]\n",
        "#df = df_Items.iloc[list(pd.DataFrame(preference).index)]\n",
        "#item_feat=df_Items.iloc[[21], -num_factors:].values"
      ],
      "execution_count": 90,
      "outputs": []
    },
    {
      "cell_type": "code",
      "metadata": {
        "id": "MaNT41s6JYl7"
      },
      "source": [
        "preference = item_feat.dot(user_pref)"
      ],
      "execution_count": 91,
      "outputs": []
    },
    {
      "cell_type": "code",
      "metadata": {
        "colab": {
          "base_uri": "https://localhost:8080/"
        },
        "id": "xvVg_Ee2GqIG",
        "outputId": "dfc58c35-979b-4cfb-b775-814299011a0b"
      },
      "source": [
        "#round(preference[0],2)\n",
        "#df_Users.columns[1:]\n",
        "preference"
      ],
      "execution_count": 92,
      "outputs": [
        {
          "output_type": "execute_result",
          "data": {
            "text/plain": [
              "array([ 0.48534082, -0.08227086,  0.01983599,  0.13975328, -0.17719978,\n",
              "        0.11271951,  0.08433738,  0.06682935,  0.09287665,  0.2584627 ,\n",
              "       -0.04487359,  0.17840711,  0.03407909,  0.01665737,  0.04553261,\n",
              "        0.02065168,  0.03979089,  0.12146753,  0.06185721,  0.08007232,\n",
              "        0.11592771,  0.04094973, -0.06520509, -0.00649859, -0.08597423,\n",
              "        0.19921222, -0.03646486,  0.19836899,  0.07157082,  0.07322261,\n",
              "        0.06078828,  0.15943376,  0.21036455,  0.11335954,  0.08692182,\n",
              "        0.01592376,  0.06332367, -0.12794075,  0.12013306, -0.02966947,\n",
              "        0.0108208 ,  0.03525883, -0.0079035 , -0.01922981,  0.11866763,\n",
              "        0.02726093, -0.09541437,  0.007967  ,  0.1562923 , -0.14828493,\n",
              "        0.03421715, -0.33357331, -0.17800273,  0.14969457, -0.0584831 ,\n",
              "        0.04138497, -0.08280496, -0.06034059, -0.07149923,  0.24594413,\n",
              "        0.02798951, -0.11006304,  0.06742033, -0.18478517,  0.02433651,\n",
              "       -0.22231437, -0.26076162, -0.04168923, -0.51177074,  0.06980958,\n",
              "       -0.05067265, -0.00785948, -0.08666205,  0.01427475, -0.03935761,\n",
              "       -0.20386068, -0.14078832,  0.50300534,  0.44936821, -0.02231623,\n",
              "        0.05829692, -0.1164821 , -0.01722665,  0.00544206, -0.01569425,\n",
              "       -0.53319495, -0.06893758,  0.07448637, -0.04078327, -0.07560748,\n",
              "       -0.5452667 , -0.05793842,  0.01464655, -0.09733884, -0.07898361,\n",
              "       -0.07301461, -0.01694144, -0.07444462, -0.05736468, -0.06100232])"
            ]
          },
          "metadata": {
            "tags": []
          },
          "execution_count": 92
        }
      ]
    },
    {
      "cell_type": "code",
      "metadata": {
        "colab": {
          "base_uri": "https://localhost:8080/",
          "height": 669
        },
        "id": "lhEEVsaDIbk7",
        "outputId": "88e72b62-bab5-4a93-906b-5ef93b21bd27"
      },
      "source": [
        "pd.DataFrame(preference).head(20)"
      ],
      "execution_count": 93,
      "outputs": [
        {
          "output_type": "execute_result",
          "data": {
            "text/html": [
              "<div>\n",
              "<style scoped>\n",
              "    .dataframe tbody tr th:only-of-type {\n",
              "        vertical-align: middle;\n",
              "    }\n",
              "\n",
              "    .dataframe tbody tr th {\n",
              "        vertical-align: top;\n",
              "    }\n",
              "\n",
              "    .dataframe thead th {\n",
              "        text-align: right;\n",
              "    }\n",
              "</style>\n",
              "<table border=\"1\" class=\"dataframe\">\n",
              "  <thead>\n",
              "    <tr style=\"text-align: right;\">\n",
              "      <th></th>\n",
              "      <th>0</th>\n",
              "    </tr>\n",
              "  </thead>\n",
              "  <tbody>\n",
              "    <tr>\n",
              "      <th>0</th>\n",
              "      <td>0.485341</td>\n",
              "    </tr>\n",
              "    <tr>\n",
              "      <th>1</th>\n",
              "      <td>-0.082271</td>\n",
              "    </tr>\n",
              "    <tr>\n",
              "      <th>2</th>\n",
              "      <td>0.019836</td>\n",
              "    </tr>\n",
              "    <tr>\n",
              "      <th>3</th>\n",
              "      <td>0.139753</td>\n",
              "    </tr>\n",
              "    <tr>\n",
              "      <th>4</th>\n",
              "      <td>-0.177200</td>\n",
              "    </tr>\n",
              "    <tr>\n",
              "      <th>5</th>\n",
              "      <td>0.112720</td>\n",
              "    </tr>\n",
              "    <tr>\n",
              "      <th>6</th>\n",
              "      <td>0.084337</td>\n",
              "    </tr>\n",
              "    <tr>\n",
              "      <th>7</th>\n",
              "      <td>0.066829</td>\n",
              "    </tr>\n",
              "    <tr>\n",
              "      <th>8</th>\n",
              "      <td>0.092877</td>\n",
              "    </tr>\n",
              "    <tr>\n",
              "      <th>9</th>\n",
              "      <td>0.258463</td>\n",
              "    </tr>\n",
              "    <tr>\n",
              "      <th>10</th>\n",
              "      <td>-0.044874</td>\n",
              "    </tr>\n",
              "    <tr>\n",
              "      <th>11</th>\n",
              "      <td>0.178407</td>\n",
              "    </tr>\n",
              "    <tr>\n",
              "      <th>12</th>\n",
              "      <td>0.034079</td>\n",
              "    </tr>\n",
              "    <tr>\n",
              "      <th>13</th>\n",
              "      <td>0.016657</td>\n",
              "    </tr>\n",
              "    <tr>\n",
              "      <th>14</th>\n",
              "      <td>0.045533</td>\n",
              "    </tr>\n",
              "    <tr>\n",
              "      <th>15</th>\n",
              "      <td>0.020652</td>\n",
              "    </tr>\n",
              "    <tr>\n",
              "      <th>16</th>\n",
              "      <td>0.039791</td>\n",
              "    </tr>\n",
              "    <tr>\n",
              "      <th>17</th>\n",
              "      <td>0.121468</td>\n",
              "    </tr>\n",
              "    <tr>\n",
              "      <th>18</th>\n",
              "      <td>0.061857</td>\n",
              "    </tr>\n",
              "    <tr>\n",
              "      <th>19</th>\n",
              "      <td>0.080072</td>\n",
              "    </tr>\n",
              "  </tbody>\n",
              "</table>\n",
              "</div>"
            ],
            "text/plain": [
              "           0\n",
              "0   0.485341\n",
              "1  -0.082271\n",
              "2   0.019836\n",
              "3   0.139753\n",
              "4  -0.177200\n",
              "5   0.112720\n",
              "6   0.084337\n",
              "7   0.066829\n",
              "8   0.092877\n",
              "9   0.258463\n",
              "10 -0.044874\n",
              "11  0.178407\n",
              "12  0.034079\n",
              "13  0.016657\n",
              "14  0.045533\n",
              "15  0.020652\n",
              "16  0.039791\n",
              "17  0.121468\n",
              "18  0.061857\n",
              "19  0.080072"
            ]
          },
          "metadata": {
            "tags": []
          },
          "execution_count": 93
        }
      ]
    },
    {
      "cell_type": "code",
      "metadata": {
        "colab": {
          "base_uri": "https://localhost:8080/"
        },
        "id": "Q4us9jEkc1xa",
        "outputId": "af4fcf50-cfc5-43d8-f448-68570c797dbd"
      },
      "source": [
        "#values = [zip(df_Users.columns[1:], preference[i]) for i in range(preference.shape[0])]\n",
        "top_values = pd.DataFrame(preference).nlargest(3, 0)\n",
        "top_indices = top_values.index\n",
        "list(top_indices)\n",
        "#comparison_data.columns = df_Users.columns"
      ],
      "execution_count": 94,
      "outputs": [
        {
          "output_type": "execute_result",
          "data": {
            "text/plain": [
              "[77, 0, 78]"
            ]
          },
          "metadata": {
            "tags": []
          },
          "execution_count": 94
        }
      ]
    },
    {
      "cell_type": "code",
      "metadata": {
        "id": "EDbfkF2jX5dr",
        "colab": {
          "base_uri": "https://localhost:8080/",
          "height": 502
        },
        "outputId": "0c48ca57-0f84-432a-b657-e151ed598cc3"
      },
      "source": [
        "df_Items.iloc[list(top_indices)]"
      ],
      "execution_count": 95,
      "outputs": [
        {
          "output_type": "execute_result",
          "data": {
            "text/html": [
              "<div>\n",
              "<style scoped>\n",
              "    .dataframe tbody tr th:only-of-type {\n",
              "        vertical-align: middle;\n",
              "    }\n",
              "\n",
              "    .dataframe tbody tr th {\n",
              "        vertical-align: top;\n",
              "    }\n",
              "\n",
              "    .dataframe thead th {\n",
              "        text-align: right;\n",
              "    }\n",
              "</style>\n",
              "<table border=\"1\" class=\"dataframe\">\n",
              "  <thead>\n",
              "    <tr style=\"text-align: right;\">\n",
              "      <th></th>\n",
              "      <th>Movie ID</th>\n",
              "      <th>Title</th>\n",
              "      <th>Factor1</th>\n",
              "      <th>Factor2</th>\n",
              "      <th>Factor3</th>\n",
              "      <th>Factor4</th>\n",
              "      <th>Factor5</th>\n",
              "      <th>Factor6</th>\n",
              "      <th>Factor7</th>\n",
              "      <th>Factor8</th>\n",
              "      <th>Factor9</th>\n",
              "      <th>Factor10</th>\n",
              "      <th>Factor11</th>\n",
              "      <th>Factor12</th>\n",
              "      <th>Factor13</th>\n",
              "      <th>Factor14</th>\n",
              "      <th>Factor15</th>\n",
              "    </tr>\n",
              "  </thead>\n",
              "  <tbody>\n",
              "    <tr>\n",
              "      <th>77</th>\n",
              "      <td>1891</td>\n",
              "      <td>Star Wars: Episode V - The Empire Strikes Back...</td>\n",
              "      <td>-1.732354</td>\n",
              "      <td>-1.031041</td>\n",
              "      <td>2.221631</td>\n",
              "      <td>0.310886</td>\n",
              "      <td>-0.900830</td>\n",
              "      <td>2.306469</td>\n",
              "      <td>-1.847214</td>\n",
              "      <td>0.231435</td>\n",
              "      <td>-0.096332</td>\n",
              "      <td>-0.673135</td>\n",
              "      <td>-1.010806</td>\n",
              "      <td>0.657123</td>\n",
              "      <td>0.141075</td>\n",
              "      <td>0.998841</td>\n",
              "      <td>-0.115583</td>\n",
              "    </tr>\n",
              "    <tr>\n",
              "      <th>0</th>\n",
              "      <td>11</td>\n",
              "      <td>Star Wars: Episode IV - A New Hope (1977)</td>\n",
              "      <td>-1.521848</td>\n",
              "      <td>-1.038507</td>\n",
              "      <td>2.027269</td>\n",
              "      <td>0.247933</td>\n",
              "      <td>-0.594548</td>\n",
              "      <td>2.513260</td>\n",
              "      <td>-1.848910</td>\n",
              "      <td>0.476710</td>\n",
              "      <td>-0.224146</td>\n",
              "      <td>-0.760681</td>\n",
              "      <td>-0.973915</td>\n",
              "      <td>0.862379</td>\n",
              "      <td>0.403861</td>\n",
              "      <td>1.129616</td>\n",
              "      <td>-0.248806</td>\n",
              "    </tr>\n",
              "    <tr>\n",
              "      <th>78</th>\n",
              "      <td>1892</td>\n",
              "      <td>Star Wars: Episode VI - Return of the Jedi (1983)</td>\n",
              "      <td>-1.353408</td>\n",
              "      <td>-0.965083</td>\n",
              "      <td>2.099767</td>\n",
              "      <td>0.143335</td>\n",
              "      <td>-0.538405</td>\n",
              "      <td>2.495382</td>\n",
              "      <td>-1.925854</td>\n",
              "      <td>0.264722</td>\n",
              "      <td>-0.467617</td>\n",
              "      <td>-0.553613</td>\n",
              "      <td>-0.912548</td>\n",
              "      <td>0.737907</td>\n",
              "      <td>0.302659</td>\n",
              "      <td>0.969395</td>\n",
              "      <td>-0.102475</td>\n",
              "    </tr>\n",
              "  </tbody>\n",
              "</table>\n",
              "</div>"
            ],
            "text/plain": [
              "    Movie ID  ...  Factor15\n",
              "77      1891  ... -0.115583\n",
              "0         11  ... -0.248806\n",
              "78      1892  ... -0.102475\n",
              "\n",
              "[3 rows x 17 columns]"
            ]
          },
          "metadata": {
            "tags": []
          },
          "execution_count": 95
        }
      ]
    },
    {
      "cell_type": "code",
      "metadata": {
        "id": "X42F9uU6Bs2O",
        "colab": {
          "base_uri": "https://localhost:8080/"
        },
        "outputId": "90facd37-4597-428c-9c5d-ec463bacda16"
      },
      "source": [
        "#quiz attempt\n",
        "##Factor1 for the movie with ID=36955\n",
        "#df_Items.head()\n",
        "df_Fator = df_Items[['Movie ID','Factor1']]\n",
        "\n",
        "value = df_Fator[df_Fator['Movie ID']==36955]['Factor1'].values[0]\n",
        "\n",
        "round(value,3)"
      ],
      "execution_count": 53,
      "outputs": [
        {
          "output_type": "execute_result",
          "data": {
            "text/plain": [
              "1.734"
            ]
          },
          "metadata": {
            "tags": []
          },
          "execution_count": 53
        }
      ]
    },
    {
      "cell_type": "code",
      "metadata": {
        "colab": {
          "base_uri": "https://localhost:8080/",
          "height": 419
        },
        "id": "HDBbNWr3GvG2",
        "outputId": "7d589580-d90b-44fa-b401-4e257545c2df"
      },
      "source": [
        "#quiz\n",
        "#with the lowest loading of factor 2\n",
        "\n",
        "df_factor2 = df_Items[['Movie ID','Factor2']]\n",
        "df_factor2.sort_values('Factor2')"
      ],
      "execution_count": 55,
      "outputs": [
        {
          "output_type": "execute_result",
          "data": {
            "text/html": [
              "<div>\n",
              "<style scoped>\n",
              "    .dataframe tbody tr th:only-of-type {\n",
              "        vertical-align: middle;\n",
              "    }\n",
              "\n",
              "    .dataframe tbody tr th {\n",
              "        vertical-align: top;\n",
              "    }\n",
              "\n",
              "    .dataframe thead th {\n",
              "        text-align: right;\n",
              "    }\n",
              "</style>\n",
              "<table border=\"1\" class=\"dataframe\">\n",
              "  <thead>\n",
              "    <tr style=\"text-align: right;\">\n",
              "      <th></th>\n",
              "      <th>Movie ID</th>\n",
              "      <th>Factor2</th>\n",
              "    </tr>\n",
              "  </thead>\n",
              "  <tbody>\n",
              "    <tr>\n",
              "      <th>16</th>\n",
              "      <td>122</td>\n",
              "      <td>-2.526300</td>\n",
              "    </tr>\n",
              "    <tr>\n",
              "      <th>15</th>\n",
              "      <td>121</td>\n",
              "      <td>-2.512933</td>\n",
              "    </tr>\n",
              "    <tr>\n",
              "      <th>14</th>\n",
              "      <td>120</td>\n",
              "      <td>-2.510061</td>\n",
              "    </tr>\n",
              "    <tr>\n",
              "      <th>51</th>\n",
              "      <td>604</td>\n",
              "      <td>-2.004450</td>\n",
              "    </tr>\n",
              "    <tr>\n",
              "      <th>79</th>\n",
              "      <td>1894</td>\n",
              "      <td>-1.711204</td>\n",
              "    </tr>\n",
              "    <tr>\n",
              "      <th>...</th>\n",
              "      <td>...</td>\n",
              "      <td>...</td>\n",
              "    </tr>\n",
              "    <tr>\n",
              "      <th>6</th>\n",
              "      <td>38</td>\n",
              "      <td>1.771799</td>\n",
              "    </tr>\n",
              "    <tr>\n",
              "      <th>32</th>\n",
              "      <td>275</td>\n",
              "      <td>1.777301</td>\n",
              "    </tr>\n",
              "    <tr>\n",
              "      <th>5</th>\n",
              "      <td>24</td>\n",
              "      <td>1.997440</td>\n",
              "    </tr>\n",
              "    <tr>\n",
              "      <th>59</th>\n",
              "      <td>680</td>\n",
              "      <td>2.085395</td>\n",
              "    </tr>\n",
              "    <tr>\n",
              "      <th>3</th>\n",
              "      <td>14</td>\n",
              "      <td>2.186059</td>\n",
              "    </tr>\n",
              "  </tbody>\n",
              "</table>\n",
              "<p>100 rows × 2 columns</p>\n",
              "</div>"
            ],
            "text/plain": [
              "    Movie ID   Factor2\n",
              "16       122 -2.526300\n",
              "15       121 -2.512933\n",
              "14       120 -2.510061\n",
              "51       604 -2.004450\n",
              "79      1894 -1.711204\n",
              "..       ...       ...\n",
              "6         38  1.771799\n",
              "32       275  1.777301\n",
              "5         24  1.997440\n",
              "59       680  2.085395\n",
              "3         14  2.186059\n",
              "\n",
              "[100 rows x 2 columns]"
            ]
          },
          "metadata": {
            "tags": []
          },
          "execution_count": 55
        }
      ]
    }
  ]
}